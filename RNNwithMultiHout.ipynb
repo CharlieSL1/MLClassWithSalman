{
 "cells": [
  {
   "cell_type": "code",
   "execution_count": 23,
   "id": "d89ebec6",
   "metadata": {},
   "outputs": [],
   "source": [
    "import torch \n",
    "from torch import nn\n",
    "                #CH1 CH2\n",
    "X = torch.tensor([[1,2], #Music Sample 1\n",
    "                     [3,4], #Music Sample 2\n",
    "                     [5,6], #Music Sample 2\n",
    "                     [7,8]],dtype=torch.float32)/500#Music Sample 5\n",
    "L,Hin = X.shape\n",
    "\n"
   ]
  },
  {
   "cell_type": "code",
   "execution_count": 24,
   "id": "950c896a",
   "metadata": {},
   "outputs": [],
   "source": [
    "Hout = 5 # Size of the hidden state\n",
    "h0 = torch.zeros(1, Hout)\n",
    "\n",
    "Wx = torch.rand(Hout,Hin) # Shape of (hidden_size(Hout),input size(Hin))\n",
    "bx = torch.rand(Hout) # Shape of (hidden_size)\n",
    "\n",
    "Wh = torch.rand(Hout,Hout)#shape of (hidden_size, hidden_size)\n",
    "bh = torch.rand(Hout)#Shape of (hidden_size)\n",
    "\n"
   ]
  },
  {
   "cell_type": "code",
   "execution_count": 25,
   "id": "5ead6f15",
   "metadata": {},
   "outputs": [
    {
     "name": "stdout",
     "output_type": "stream",
     "text": [
      "output tensor([[0.5693, 0.3791, 0.6364, 0.6342, 0.9096],\n",
      "        [0.9809, 0.9904, 0.9816, 0.9868, 0.9930],\n",
      "        [0.9984, 0.9993, 0.9967, 0.9984, 0.9986],\n",
      "        [0.9986, 0.9994, 0.9970, 0.9985, 0.9986]], grad_fn=<SqueezeBackward1>)\n",
      ", hn tensor([[0.9986, 0.9994, 0.9970, 0.9985, 0.9986]], grad_fn=<SqueezeBackward1>)\n"
     ]
    }
   ],
   "source": [
    "Rnn = nn.RNN(input_size=Hin,hidden_size=Hout)\n",
    "Rnn.weight_ih_l0.data = Wx\n",
    "Rnn.bias_ih_l0.data = bx\n",
    "Rnn.weight_hh_l0.data = Wh\n",
    "Rnn.bias_hh_l0.data = bh\n",
    "output, hn = Rnn(X, h0)\n",
    "print(f\"output {output}\\n, hn {hn}\")\n"
   ]
  },
  {
   "cell_type": "code",
   "execution_count": null,
   "id": "4c0ebb29",
   "metadata": {},
   "outputs": [
    {
     "name": "stdout",
     "output_type": "stream",
     "text": [
      "tensor([[0.5693, 0.3791, 0.6364, 0.6342, 0.9096]])\n",
      "tensor([[0.9809, 0.9904, 0.9816, 0.9868, 0.9930]])\n",
      "tensor([[0.9984, 0.9993, 0.9967, 0.9984, 0.9986]])\n",
      "tensor([[0.9986, 0.9994, 0.9970, 0.9985, 0.9986]])\n"
     ]
    },
    {
     "data": {
      "text/plain": [
       "True"
      ]
     },
     "execution_count": 31,
     "metadata": {},
     "output_type": "execute_result"
    }
   ],
   "source": [
    "ht_1 = h0 # ht - 1\n",
    "for t in range(L):\n",
    "    x = X[t]\n",
    "    wxTx = torch.matmul(x,Wx.T)\n",
    "    whTh = torch.matmul(ht_1, Wh.T)\n",
    "    ht = torch.tanh(wxTx+bx+whTh+bh)\n",
    "    ht_1 = ht\n",
    "    print(ht)\n",
    "    \n",
    "torch.allclose(hn,ht)\n",
    "# print(output)\n",
    "# Rnn(X,1)\n"
   ]
  },
  {
   "cell_type": "markdown",
   "id": "3b26bb45",
   "metadata": {},
   "source": [
    "HW.\n",
    "\n",
    "Finish the RNN Cell\n",
    "N = multiable number\n"
   ]
  }
 ],
 "metadata": {
  "kernelspec": {
   "display_name": "ml",
   "language": "python",
   "name": "python3"
  },
  "language_info": {
   "codemirror_mode": {
    "name": "ipython",
    "version": 3
   },
   "file_extension": ".py",
   "mimetype": "text/x-python",
   "name": "python",
   "nbconvert_exporter": "python",
   "pygments_lexer": "ipython3",
   "version": "3.11.11"
  }
 },
 "nbformat": 4,
 "nbformat_minor": 5
}
