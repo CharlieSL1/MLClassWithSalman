{
 "cells": [
  {
   "cell_type": "markdown",
   "id": "4a0af099",
   "metadata": {},
   "source": [
    "# RNN Data"
   ]
  },
  {
   "cell_type": "code",
   "execution_count": 220,
   "id": "995a9d14",
   "metadata": {},
   "outputs": [],
   "source": [
    "import torch \n",
    "from torch import nn\n",
    "# 3D music in L N Hin\n",
    "# X = torch.tensor([[[1,2],[3,4],[5,6]],\n",
    "#                      [[5,6],[7,8],[9,10]],\n",
    "#                      [[11,12],[13,14],[15,16]],\n",
    "#                      [[17,18],[19,20],[21,22]]],dtype=torch.float32)\n",
    "# L,N,Hin = X.shape\\\n",
    "# h0 = torch.zeros(1, N, Hout)\n",
    "# 2D Music L Hin\n",
    "X = torch.tensor([[1,2],\n",
    "                     [3,4],\n",
    "                     [5,6],\n",
    "                     [7,8]],dtype=torch.float32)\n",
    "L,Hin = X.shape\n",
    "# Hout you pick, output number for every music (hidden size)\n",
    "# Hin number of music in your music, music channels (defalt) (input size)\n",
    "\n",
    "\n"
   ]
  },
  {
   "cell_type": "markdown",
   "id": "dc3a8f21",
   "metadata": {},
   "source": [
    "# Hyperparametmers"
   ]
  },
  {
   "cell_type": "code",
   "execution_count": 221,
   "id": "1c9fef96",
   "metadata": {},
   "outputs": [],
   "source": [
    "Hout = 1 # Size of the hidden state\n",
    "h0 = torch.zeros(1, Hout)\n",
    "\n",
    "wx = torch.tensor([[0.05,0.2]],dtype=torch.float32) # Shape of (hidden_size,input size)\n",
    "bx = torch.tensor([0.2],dtype=torch.float32) # Shape of (hidden_size)\n",
    "\n",
    "wh = torch.tensor([[0.1]],dtype=torch.float32)#shape of (hidden_size, hidden_size)\n",
    "bh = torch.tensor([0.3],dtype=torch.float32)#Shape of (hidden_size)\n",
    "\n"
   ]
  },
  {
   "cell_type": "markdown",
   "id": "5156d98c",
   "metadata": {},
   "source": [
    "# RNN Ref"
   ]
  },
  {
   "cell_type": "code",
   "execution_count": 222,
   "id": "97ca227f",
   "metadata": {},
   "outputs": [
    {
     "name": "stdout",
     "output_type": "stream",
     "text": [
      "output tensor([[0.7398],\n",
      "        [0.9094],\n",
      "        [0.9668],\n",
      "        [0.9878]], grad_fn=<SqueezeBackward1>)\n",
      ", hn tensor([[0.9878]], grad_fn=<SqueezeBackward1>)\n"
     ]
    }
   ],
   "source": [
    "\n",
    "#Hin = 2 # Number of Channels\n",
    "\n",
    "# L,Hin = input.shape\n",
    "Rnn = nn.RNN(input_size=Hin,hidden_size=Hout)\n",
    "Rnn.weight_ih_l0.data = wx\n",
    "Rnn.bias_ih_l0.data = bx\n",
    "\n",
    "Rnn.weight_hh_l0.data = wh\n",
    "Rnn.bias_hh_l0.data = bh\n",
    "output, hn = Rnn(input, h0)\n",
    "# Output (L,N,D * Hout)\n",
    "print(f\"output {output}\\n, hn {hn}\")\n",
    "\n",
    "# dir(rnn)\n"
   ]
  },
  {
   "cell_type": "markdown",
   "id": "3a278869",
   "metadata": {},
   "source": [
    "# DIY LOOP"
   ]
  },
  {
   "cell_type": "code",
   "execution_count": 236,
   "id": "e852e4ca",
   "metadata": {},
   "outputs": [
    {
     "name": "stdout",
     "output_type": "stream",
     "text": [
      "tensor([0.7398])\n",
      "tensor([0.9094])\n",
      "tensor([0.9668])\n",
      "tensor([0.9878])\n"
     ]
    }
   ],
   "source": [
    "ht_1 = h0 # ht - 1\n",
    "for t in range(L):\n",
    "    x = X[t]\n",
    "    wxTx = torch.dot(wx.flatten(),x)\n",
    "    whTh = torch.dot(wh.flatten(),ht_1.flatten())\n",
    "    ht = torch.tanh(wxTx+bx+whTh+bh)\n",
    "    ht_1 = ht\n",
    "    print(ht)\n",
    "    \n",
    "# print(output)\n",
    "# Rnn(X,1)\n"
   ]
  },
  {
   "cell_type": "markdown",
   "id": "32288db8",
   "metadata": {},
   "source": [
    "### DIY RNNCell"
   ]
  },
  {
   "cell_type": "code",
   "execution_count": 224,
   "id": "ae51da07",
   "metadata": {},
   "outputs": [],
   "source": [
    "\n",
    "# X = torch.tensor([[1,2],[3,4],[5,6]],dtype=torch.float32)/50\n",
    "# h = torch.tensor([[0.1],[0.2],[0.3]],dtype=torch.float32)\n",
    "\n",
    "#ih\n",
    "f = nn.Linear(in_features=2,out_features=1)\n",
    "f.weight.data = torch.tensor([[7,8]],dtype=torch.float32)/50\n",
    "f.bias.data = torch.tensor([0.2],dtype=torch.float32)\n",
    "\n",
    "#hh\n",
    "F = nn.Linear(in_features=2,out_features=1)\n",
    "F.weight.data = torch.tensor([[0.1]],dtype=torch.float32)\n",
    "F.bias.data = torch.tensor([0.3],dtype=torch.float32)\n",
    "\n",
    "#tanh\n",
    "# sig = torch.tanh(f(X)+F(h))\n",
    "# print(sig)"
   ]
  },
  {
   "cell_type": "markdown",
   "id": "443b0317",
   "metadata": {},
   "source": [
    "### RNNCell No loop"
   ]
  },
  {
   "cell_type": "code",
   "execution_count": 238,
   "id": "c9bb30ca",
   "metadata": {},
   "outputs": [
    {
     "name": "stdout",
     "output_type": "stream",
     "text": [
      "tensor([[0.7398]], grad_fn=<SqueezeBackward1>)\n",
      "tensor([[0.9094]], grad_fn=<SqueezeBackward1>)\n",
      "tensor([[0.9668]], grad_fn=<SqueezeBackward1>)\n",
      "tensor([[0.9878]], grad_fn=<SqueezeBackward1>)\n"
     ]
    }
   ],
   "source": [
    "\n",
    "#ih\n",
    "rnnCell = nn.RNNCell(input_size=Hin, hidden_size=Hout)  \n",
    "rnnCell.weight_ih.data = wx\n",
    "rnnCell.bias_ih.data = bx\n",
    "rnnCell.bias_hh.data = bh\n",
    "rnnCell.weight_hh.data = wh\n",
    "#hh\n",
    "ht_1 = h0\n",
    "for t in range(L):\n",
    "    ht = rnnCell(X[t],ht_1)\n",
    "    ht_1 = ht\n",
    "    print(ht)\n",
    "    \n"
   ]
  },
  {
   "cell_type": "markdown",
   "id": "c77ff248",
   "metadata": {},
   "source": [
    "Hw:\n",
    "make weight non-random\n",
    "'weight_hh_l0',\n",
    "'bias_hh_l0',\n",
    "\n",
    "'weight_ih_l0',\n",
    " bias_ih_l0',\n",
    "\n",
    " tanh(weight * input + weight * h)\n",
    " \n",
    "\n",
    " RNNCell does if for only one L\n",
    " RNN doews it for all L\n",
    "\n",
    " Goal:\n",
    "  manual + Loop code(L)= RNNCell + loop code(L) = RNN code\n"
   ]
  },
  {
   "cell_type": "markdown",
   "id": "cc39a9ec",
   "metadata": {},
   "source": [
    "### DIY RNN"
   ]
  },
  {
   "cell_type": "code",
   "execution_count": null,
   "id": "6cdff2bf",
   "metadata": {},
   "outputs": [
    {
     "data": {
      "text/plain": [
       "tensor(11)"
      ]
     },
     "execution_count": 101,
     "metadata": {},
     "output_type": "execute_result"
    }
   ],
   "source": [
    "# 3 Different ways to do the Dot Product\n",
    "a = torch.tensor([[1],[2]])\n",
    "b = torch.tensor([[3],[4]])\n",
    "\n",
    "#1\n",
    "(a*b).sum()\n",
    "\n",
    "#2\n",
    "a.T @ b\n",
    "\n",
    "#3\n",
    "torch.dot(a.flatten(),b.flatten())\n"
   ]
  },
  {
   "cell_type": "code",
   "execution_count": null,
   "id": "8b9440f2",
   "metadata": {},
   "outputs": [
    {
     "data": {
      "text/plain": [
       "tensor(0.4600)"
      ]
     },
     "execution_count": 109,
     "metadata": {},
     "output_type": "execute_result"
    }
   ],
   "source": [
    "w = Rnn.weight_ih_l0.data\n",
    "x = X[0]\n",
    "torch.dot(w.flatten(),x)\n",
    "\n",
    "w.T.flatten() @ x\n",
    "\n",
    "sum(w.flatten()*x)"
   ]
  },
  {
   "cell_type": "markdown",
   "id": "4550d9bc",
   "metadata": {},
   "source": [
    "# Hw\n",
    "\n",
    "1. use torch.allclose to compare RNN RNNCell DIY\n",
    "2. Try Hidden_size = 2 \n",
    "3. Clean up code "
   ]
  }
 ],
 "metadata": {
  "kernelspec": {
   "display_name": "ml",
   "language": "python",
   "name": "python3"
  },
  "language_info": {
   "codemirror_mode": {
    "name": "ipython",
    "version": 3
   },
   "file_extension": ".py",
   "mimetype": "text/x-python",
   "name": "python",
   "nbconvert_exporter": "python",
   "pygments_lexer": "ipython3",
   "version": "3.11.11"
  }
 },
 "nbformat": 4,
 "nbformat_minor": 5
}
