{
 "cells": [
  {
   "cell_type": "markdown",
   "id": "81392fd9",
   "metadata": {},
   "source": [
    "### DATA"
   ]
  },
  {
   "cell_type": "code",
   "execution_count": 1,
   "id": "c50ff782",
   "metadata": {},
   "outputs": [
    {
     "name": "stdout",
     "output_type": "stream",
     "text": [
      "tensor([[[30.7325, 30.1777, 30.9958, 30.6967, 30.5440],\n",
      "         [60.6846, 60.0415, 60.5159, 60.1413, 60.6475]],\n",
      "\n",
      "        [[30.0474, 30.2120, 30.3131, 30.0668, 30.8934],\n",
      "         [60.5839, 60.3474, 60.7822, 60.9362, 60.8814]],\n",
      "\n",
      "        [[30.3536, 30.3188, 30.2022, 30.5008, 30.9970],\n",
      "         [60.0454, 60.8237, 60.5710, 60.2148, 60.3626]],\n",
      "\n",
      "        ...,\n",
      "\n",
      "        [[30.8352, 30.8363, 30.9398, 30.4318, 30.0005],\n",
      "         [60.3119, 60.6005, 60.7709, 60.9862, 60.3544]],\n",
      "\n",
      "        [[30.6152, 30.9044, 30.4939, 30.5496, 30.9501],\n",
      "         [60.8661, 60.1978, 60.3343, 60.0800, 60.3483]],\n",
      "\n",
      "        [[30.4251, 30.9676, 30.4602, 30.4950, 30.1906],\n",
      "         [60.2443, 60.9100, 60.4067, 60.0350, 60.7606]]]) tensor([[[80.6900, 80.6325, 80.4736, 80.8118, 80.9853],\n",
      "         [10.6983, 10.4908, 10.2096, 10.9600, 10.2530]],\n",
      "\n",
      "        [[80.2209, 80.5387, 80.7626, 80.1436, 80.7414],\n",
      "         [10.5714, 10.2608, 10.6535, 10.2296, 10.7745]],\n",
      "\n",
      "        [[80.6101, 80.2413, 80.4650, 80.5980, 80.6866],\n",
      "         [10.9701, 10.7933, 10.4544, 10.9263, 10.2937]],\n",
      "\n",
      "        ...,\n",
      "\n",
      "        [[80.2067, 80.5083, 80.5518, 80.3617, 80.3960],\n",
      "         [10.8698, 10.4595, 10.6235, 10.6125, 10.3453]],\n",
      "\n",
      "        [[80.2181, 80.5413, 80.5409, 80.8129, 80.1298],\n",
      "         [10.3880, 10.4214, 10.3611, 10.9508, 10.3194]],\n",
      "\n",
      "        [[80.2003, 80.0929, 80.6802, 80.3857, 80.3181],\n",
      "         [10.6890, 10.2664, 10.2778, 10.6964, 10.3867]]])\n"
     ]
    }
   ],
   "source": [
    "import torch\n",
    "from torch import nn,optim\n",
    "import torch.nn.functional as F\n",
    "from torch.utils.data import DataLoader,TensorDataset\n",
    "from sklearn.model_selection import train_test_split\n",
    "from tqdm import tqdm \n",
    "\n",
    "\n",
    "jazz_train = torch.rand(500,2,5,dtype=torch.float32)\n",
    "rock_train = torch.rand(500,2,5,dtype=torch.float32)\n",
    "jazz_train[:, 0, :] += 30\n",
    "jazz_train[:, 1, :] += 60\n",
    "rock_train[:, 0, :] += 80\n",
    "rock_train[:, 1, :] += 10\n",
    "y_genre_train = torch.cat(                                           \n",
    "    (torch.zeros(500, dtype=torch.long),                          # 0 = jazz\n",
    "     torch.ones(500, dtype=torch.long)),                          # 1 = rock\n",
    "    dim=0\n",
    ")    \n",
    "\n",
    "X_music_train = torch.cat((jazz_train,rock_train),0)\n",
    "train_music_dataset = TensorDataset(X_music_train,y_genre_train)\n",
    "train_music_loader = DataLoader(train_music_dataset)\n",
    "\n",
    "jazz_test = torch.rand(100,2,5,dtype=torch.float32)\n",
    "rock_test = torch.rand(100,2,5,dtype=torch.float32)\n",
    "jazz_test[:, 0, :] += 30\n",
    "jazz_test[:, 1, :] += 60\n",
    "rock_test[:, 0, :] += 80\n",
    "rock_test[:, 1, :] += 10\n",
    "test_music = torch.cat((jazz_test,rock_test),0)\n",
    "y_genre_test = torch.cat(                                           \n",
    "    (torch.zeros(100, dtype=torch.long),                          # 0 = jazz\n",
    "     torch.ones(100, dtype=torch.long)),                          # 1 = rock\n",
    "    dim=0\n",
    ")    \n",
    "x_music_test = torch.cat((jazz_test,rock_test),0)\n",
    "test_music_dataset = TensorDataset(x_music_test,y_genre_test)\n",
    "test_music_loader = DataLoader(test_music_dataset)\n",
    "print(jazz_train,rock_train)"
   ]
  },
  {
   "cell_type": "markdown",
   "id": "2e4173da",
   "metadata": {},
   "source": [
    "### MODEL"
   ]
  },
  {
   "cell_type": "code",
   "execution_count": 2,
   "id": "bc59908a",
   "metadata": {},
   "outputs": [],
   "source": [
    "model = nn.Sequential(nn.Conv1d(in_channels=2,out_channels=4,kernel_size=(2)),\n",
    "                      nn.Conv1d(in_channels=4,out_channels=4,kernel_size=(2)),\n",
    "                      nn.Flatten(),\n",
    "                      nn.LazyLinear(out_features=2))#CrossEntropyLoss contrains sigmoid \n"
   ]
  },
  {
   "cell_type": "markdown",
   "id": "afe3c383",
   "metadata": {},
   "source": [
    "### Training"
   ]
  },
  {
   "cell_type": "code",
   "execution_count": 3,
   "id": "90d8fdcd",
   "metadata": {},
   "outputs": [
    {
     "name": "stderr",
     "output_type": "stream",
     "text": [
      "100%|██████████| 200/200 [01:09<00:00,  2.87it/s]\n"
     ]
    }
   ],
   "source": [
    "loss_fn = nn.CrossEntropyLoss()# compute the error \n",
    "optim_fn = optim.SGD(model.parameters(),lr=0.01) # Stochastic Gradient descent\n",
    "for epoch in tqdm(range(200)):\n",
    "    for xb,yb in train_music_loader: # \n",
    "        ypred = model(xb) # find the output of the model\n",
    "        loss = loss_fn(ypred, yb)  #Out is the ML think is the answer, yb the real answer \n",
    "        optim_fn.zero_grad() # get ready for the slope\n",
    "        loss.backward()# find where is it down the slope\n",
    "        optim_fn.step()# Take a step down\n"
   ]
  },
  {
   "cell_type": "markdown",
   "id": "73fd677a",
   "metadata": {},
   "source": [
    "### Predict"
   ]
  },
  {
   "cell_type": "code",
   "execution_count": 4,
   "id": "7af6b773",
   "metadata": {},
   "outputs": [
    {
     "name": "stdout",
     "output_type": "stream",
     "text": [
      "100.0%\n"
     ]
    }
   ],
   "source": [
    "ypred = model(test_music)\n",
    "argmax = torch.argmax(ypred,dim=1)\n",
    "result = (argmax == y_genre_test)\n",
    "acc = (result.sum()/len(y_genre_test)) * 100\n",
    "print(f\"{acc}%\")"
   ]
  }
 ],
 "metadata": {
  "kernelspec": {
   "display_name": "ml",
   "language": "python",
   "name": "python3"
  },
  "language_info": {
   "codemirror_mode": {
    "name": "ipython",
    "version": 3
   },
   "file_extension": ".py",
   "mimetype": "text/x-python",
   "name": "python",
   "nbconvert_exporter": "python",
   "pygments_lexer": "ipython3",
   "version": "3.11.11"
  }
 },
 "nbformat": 4,
 "nbformat_minor": 5
}
